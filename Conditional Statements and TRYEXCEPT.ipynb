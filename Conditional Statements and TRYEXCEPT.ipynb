{
 "cells": [
  {
   "cell_type": "code",
   "execution_count": null,
   "id": "517e86cb",
   "metadata": {},
   "outputs": [],
   "source": [
    "Fahrenheit_1 = float(input(\"Temperature value in Fahrenheit: \" ))\n",
    "# For Converting the temperature to celcius degree from Fahrenheit by using the above.\n",
    "# given formula.\n",
    "celcius_1 = (Fahrenheit_1 - 32.0) * 5/9.\n",
    "# print the result.\n",
    "print(\"The Celsius equivalent of the temperature you entered\", Fahrenheit_1, \"is\", celcius_1, \"degrees Celsius.\")"
   ]
  },
  {
   "cell_type": "code",
   "execution_count": null,
   "id": "d9e04f02",
   "metadata": {},
   "outputs": [],
   "source": [
    "try:\n",
    "    Fahrenheit_1 = float(input(\"Temperature value in Fahrenheit: \"))\n",
    "    # For Converting the temperature to celcius degree from Fahrenheit by using the above.\n",
    "    # given formula.\n",
    "    celcius_1 = (Fahrenheit_1 - 32.0) * 5 / 9.\n",
    "    # print the result.\n",
    "    print(\"The Celsius equivalent of the temperature you entered\", Fahrenheit_1, \"is\", celcius_1, \"degrees Celsius.\")\n",
    "except ValueError:\n",
    "    print(\"wrong format\")"
   ]
  },
  {
   "cell_type": "markdown",
   "id": "abcf1306",
   "metadata": {},
   "source": [
    "The above code displays the ValueError when a user inputs the wrong value."
   ]
  },
  {
   "cell_type": "code",
   "execution_count": null,
   "id": "055298ed",
   "metadata": {},
   "outputs": [],
   "source": []
  }
 ],
 "metadata": {
  "kernelspec": {
   "display_name": "Python 3 (ipykernel)",
   "language": "python",
   "name": "python3"
  },
  "language_info": {
   "codemirror_mode": {
    "name": "ipython",
    "version": 3
   },
   "file_extension": ".py",
   "mimetype": "text/x-python",
   "name": "python",
   "nbconvert_exporter": "python",
   "pygments_lexer": "ipython3",
   "version": "3.9.13"
  }
 },
 "nbformat": 4,
 "nbformat_minor": 5
}
