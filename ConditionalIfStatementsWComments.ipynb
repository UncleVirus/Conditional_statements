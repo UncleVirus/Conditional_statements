{
 "cells": [
  {
   "cell_type": "code",
   "execution_count": 3,
   "metadata": {},
   "outputs": [
    {
     "name": "stdout",
     "output_type": "stream",
     "text": [
      "1.0\n"
     ]
    }
   ],
   "source": [
    "x = 1\n",
    "if x != 0:\n",
    "    y = 1/x\n",
    "    print(y)\n",
    "else:\n",
    "    print('y is infinity')"
   ]
  },
  {
   "cell_type": "code",
   "execution_count": 1,
   "metadata": {},
   "outputs": [
    {
     "name": "stdout",
     "output_type": "stream",
     "text": [
      "Loosen Tie\n"
     ]
    }
   ],
   "source": [
    "\"\"\" This comment describes what this program is doing\n",
    "    This entails using an if-elif-else block\n",
    "\"\"\"\n",
    "# This code determines what attire is appropriate\n",
    "temp = 99\n",
    "if temp <= 32:                 # This line checks to see if the the temperature is cold\n",
    "    print('Wear wool overcoat')\n",
    "elif temp < 80:\n",
    "    print('Wear sport coat or suit')\n",
    "else:\n",
    "    print('Loosen Tie')"
   ]
  },
  {
   "cell_type": "code",
   "execution_count": null,
   "metadata": {
    "collapsed": true
   },
   "outputs": [],
   "source": []
  }
 ],
 "metadata": {
  "kernelspec": {
   "display_name": "Python 3",
   "language": "python",
   "name": "python3"
  },
  "language_info": {
   "codemirror_mode": {
    "name": "ipython",
    "version": 3
   },
   "file_extension": ".py",
   "mimetype": "text/x-python",
   "name": "python",
   "nbconvert_exporter": "python",
   "pygments_lexer": "ipython3",
   "version": "3.6.3"
  }
 },
 "nbformat": 4,
 "nbformat_minor": 2
}
