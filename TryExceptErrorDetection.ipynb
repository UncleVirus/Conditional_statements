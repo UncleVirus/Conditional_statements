{
 "cells": [
  {
   "cell_type": "code",
   "execution_count": 5,
   "metadata": {},
   "outputs": [
    {
     "name": "stdout",
     "output_type": "stream",
     "text": [
      "Error message and type: division by zero<class 'ZeroDivisionError'>\n"
     ]
    }
   ],
   "source": [
    "x = 0\n",
    "try:\n",
    "    y = 1/x\n",
    "    print(y)\n",
    "except Exception as err:\n",
    "    print('Error message and type: ' + str(err) + str(type(err)))"
   ]
  },
  {
   "cell_type": "code",
   "execution_count": 4,
   "metadata": {},
   "outputs": [
    {
     "name": "stdout",
     "output_type": "stream",
     "text": [
      "Error message and type: division by zero<class 'ZeroDivisionError'>\n"
     ]
    }
   ],
   "source": [
    "x = 0\n",
    "try:\n",
    "    y = 1/x\n",
    "    print(y)\n",
    "except ArithmeticError as err:\n",
    "    print('Error message and type: ' + str(err) + str(type(err)))"
   ]
  },
  {
   "cell_type": "code",
   "execution_count": null,
   "metadata": {
    "collapsed": true
   },
   "outputs": [],
   "source": []
  }
 ],
 "metadata": {
  "kernelspec": {
   "display_name": "Python 3 (ipykernel)",
   "language": "python",
   "name": "python3"
  },
  "language_info": {
   "codemirror_mode": {
    "name": "ipython",
    "version": 3
   },
   "file_extension": ".py",
   "mimetype": "text/x-python",
   "name": "python",
   "nbconvert_exporter": "python",
   "pygments_lexer": "ipython3",
   "version": "3.9.13"
  }
 },
 "nbformat": 4,
 "nbformat_minor": 2
}
